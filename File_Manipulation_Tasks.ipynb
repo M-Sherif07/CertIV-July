{
 "cells": [
  {
   "cell_type": "markdown",
   "id": "09526733-c98a-493c-a153-4dbecabe4c48",
   "metadata": {},
   "source": [
    "# Task: Working with Files in Python\n",
    "### Learning Objectives\n",
    "\n",
    "By completing this task, you will:\n",
    "- Create, read, append, and delete text files using Python.\n",
    "- Use the `os` library to manage files and directories.\n",
    "- Understand file modes — write (`\"w\"`), read (`\"r\"`), and append (`\"a\"`).\n",
    "\n",
    "## Scenario\n",
    "\n",
    "You are a junior data analyst at DataSmart Solutions.\n",
    "Your supervisor has asked you to create and manage a simple `CSV` file that contains employee information.\n",
    "You’ll use Python to:\n",
    "\n",
    "- Create and write employee data to the file.\n",
    "- Read the data for review.\n",
    "- Add more records when new employees join.\n",
    "- Delete the file when it’s no longer needed.\n",
    "\n",
    "## Part 1 – Create and Write a CSV File\n",
    "\n",
    "1. Open your IDE (e.g., Thonny, VS Code, or Replit).\n",
    "2. Create a new Python file named file_activity.py.\n",
    "3. Write a Python program that:\n",
    "   - Creates a file called Data.csv in write mode (\"w\").\n",
    "   - Writes the following data:\n",
    "\n",
    "<table style=\"margin-left: 0; border-collapse: collapse; width: 40%; font-size: 14px;\">\n",
    "    <tr style=\"background-color: #13BDE3;\">\n",
    "       <th style=\"text-align: left;\"><b>First Name</b></th>\n",
    "        <th style=\"text-align: left;\"><b>Last Name</b></th>\n",
    "        <th style=\"text-align: left;\"><b>Age</b></th>\n",
    "    </tr>\n",
    "    <tr>\n",
    "        <td><b>John</b></td>\n",
    "        <td>Doe</td>\n",
    "        <td>25</td>\n",
    "    </tr>\n",
    "    <tr>\n",
    "        <td><b>William</b></td>\n",
    "        <td>Smith</td>\n",
    "        <td>35</td>\n",
    "    </tr>\n",
    "    <tr>\n",
    "       <td><b>Jane</b></td>\n",
    "        <td>Peter</td>\n",
    "        <td>22</td>\n",
    "    </tr>\n",
    "   \n",
    "</table>\n",
    "\n",
    "4. Run your code and confirm that `Data.csv` has been created in your working directory\n",
    "\n",
    "\n",
    "## Part 2 – Read and Display the File\n",
    "\n",
    "1. Open `Data.csv` in read mode (`\"r\"`).\n",
    "2. Read the contents and print them to the console.\n",
    "3. Confirm that all three records appear correctly.\n",
    "\n",
    "**Evidence:** Screenshot showing the printed output in the console.\n",
    "\n",
    "## Part 3 – Append New Records\n",
    "\n",
    "1. Reopen Data.csv in append mode (\"a\").\n",
    "2. Add the following new employee data:\n",
    "\n",
    "<table style=\"margin-left: 0; border-collapse: collapse; width: 40%; font-size: 14px;\">\n",
    "    <tr style=\"background-color: #13BDE3;\">\n",
    "       <th style=\"text-align: left;\"><b>First Name</b></th>\n",
    "        <th style=\"text-align: left;\"><b>Last Name</b></th>\n",
    "        <th style=\"text-align: left;\"><b>Age</b></th>\n",
    "    </tr>\n",
    "    <tr>\n",
    "        <td><b>Jack</b></td>\n",
    "        <td>Sparrow</td>\n",
    "        <td>25</td>\n",
    "    </tr>\n",
    "    <tr>\n",
    "        <td><b>David</b></td>\n",
    "        <td>William</td>\n",
    "        <td>35</td>\n",
    "    </tr>\n",
    "   \n",
    "</table>\n",
    "\n",
    "3. Reopen the file in read mode and print its updated contents.\n",
    "\n",
    "**Evidence:** Screenshot showing both the append code and the updated output.\n",
    "\n",
    "\n",
    "## Part 4 – Delete the File Safely\n",
    "\n",
    "1. Import the os library.\n",
    "2. Check if Data.csv exists.\n",
    "3. If it exists, delete it using os.remove(\"Data.csv\").\n",
    "4. Print confirmation messages for file existence and deletion.\n",
    "\n",
    "**Evidence:** Screenshot showing “ Data.csv has been deleted.” in the console."
   ]
  },
  {
   "cell_type": "markdown",
   "id": "ff197895-328f-471a-b660-f6550c51e202",
   "metadata": {},
   "source": [
    "## Reflection Questions\n",
    "\n",
    "Answer the following in a short paragraph or bullet points:\n",
    "\n",
    "1. What is the difference between \"w\", \"r\", and \"a\" modes in Python?"
   ]
  },
  {
   "cell_type": "markdown",
   "id": "e2dcf558-1950-46ef-aa68-6bcd9992b6ca",
   "metadata": {},
   "source": []
  },
  {
   "cell_type": "markdown",
   "id": "3fb1cd0e-6f65-43e3-b48b-0ea71cf3f2c9",
   "metadata": {},
   "source": [
    "2. Why is it important to close a file after writing?"
   ]
  },
  {
   "cell_type": "markdown",
   "id": "8819c5d5-d317-4f4e-9918-cad4729f4fcd",
   "metadata": {},
   "source": []
  },
  {
   "cell_type": "markdown",
   "id": "ca57b82b-6066-4e74-8cb6-0dda4de679a9",
   "metadata": {},
   "source": [
    "3. What happens if you try to delete a file that doesn’t exist?"
   ]
  },
  {
   "cell_type": "markdown",
   "id": "09d7d54c-1ab2-4734-8f8c-85e892da6c45",
   "metadata": {},
   "source": []
  },
  {
   "cell_type": "markdown",
   "id": "8e620eec-03b5-431f-8bc7-ea2f1a9f9b46",
   "metadata": {},
   "source": [
    "4. How can you check if a file exists before deleting it?"
   ]
  },
  {
   "cell_type": "markdown",
   "id": "a2ae7c1b-b130-4dd4-bf67-904dcee54319",
   "metadata": {},
   "source": []
  }
 ],
 "metadata": {
  "kernelspec": {
   "display_name": "Python 3 (ipykernel)",
   "language": "python",
   "name": "python3"
  },
  "language_info": {
   "codemirror_mode": {
    "name": "ipython",
    "version": 3
   },
   "file_extension": ".py",
   "mimetype": "text/x-python",
   "name": "python",
   "nbconvert_exporter": "python",
   "pygments_lexer": "ipython3",
   "version": "3.8.10"
  }
 },
 "nbformat": 4,
 "nbformat_minor": 5
}
