{
 "cells": [
  {
   "cell_type": "markdown",
   "id": "028f72cc-c041-4331-b223-acef7039e754",
   "metadata": {},
   "source": [
    "# Week 1 Task -1\n"
   ]
  },
  {
   "cell_type": "markdown",
   "id": "9fbf2919",
   "metadata": {},
   "source": [
    "### Python\n",
    "Python is an easy-to-learn, versatile programming language used for web development, data analysis, artificial intelligence, and more. Its simple syntax makes it beginner-friendly, allowing users to focus on problem-solving rather than complex code. Python is widely used in education and industry, making it a popular choice for all skill levels. Running a code cell will show the output below the cell.\n",
    "\n",
    "\n"
   ]
  },
  {
   "cell_type": "code",
   "execution_count": null,
   "id": "dc4a1a14",
   "metadata": {},
   "outputs": [],
   "source": [
    "print(\"Hello World!\")\n",
    "name = input(\"What is your name? \")\n",
    "print(f\"Hello, {name}!\")"
   ]
  },
  {
   "cell_type": "markdown",
   "id": "b6d816ac-660d-411c-9dfb-7ab88a3eae37",
   "metadata": {},
   "source": [
    "### Variables\n",
    "In Python, variables are used to store data values. A variable is essentially a name that references a specific piece of data (like a number, string, or list). You can assign a value to a variable using the assignment operator =, and then use that variable later in your code.\n",
    "\n",
    "In the above example, a variable called name was created. We then printed the contents of that variable. Run the code above again and enter a different value for 'name'.\n",
    "\n",
    "[W3Schools Python Variable](https://www.w3schools.com/python/python_variables.asp) \n",
    "\n",
    "Run the example below:"
   ]
  },
  {
   "cell_type": "code",
   "execution_count": null,
   "id": "6ff5e194-4ca7-4e94-949a-b25757738635",
   "metadata": {},
   "outputs": [],
   "source": [
    "x = 5\n",
    "y = \"John\"\n",
    "print(x)\n",
    "print(y)"
   ]
  },
  {
   "cell_type": "markdown",
   "id": "068edff0-772f-490c-8c72-74f33195e960",
   "metadata": {},
   "source": [
    "### Comments\n",
    "In programming, comments are non-executable lines of text in the code that are meant for the programmer or others who read the code. They do not affect how the program runs, but they serve as helpful notes or explanations within the code. In Python a # symbol is used to begin a comment, which then occupies the remainder of the line\n",
    "\n",
    "[W3Schools Python Comments](https://www.w3schools.com/python/python_comments.asp)\n",
    "\n",
    "Run the example below:"
   ]
  },
  {
   "cell_type": "code",
   "execution_count": null,
   "id": "bfc81883-bdbd-4906-8849-4f505ce3a5c9",
   "metadata": {},
   "outputs": [],
   "source": [
    "x = 5  # 'x' is a variable storing the value 5\n",
    "name = \"Alice\"  # 'name' is a variable storing the string \"Alice\"\n",
    "print(x)\n",
    "print(\"name = \", name)"
   ]
  },
  {
   "cell_type": "markdown",
   "id": "5b830e86-6e25-4aa9-9846-27fe83d2ab62",
   "metadata": {},
   "source": [
    "### Arithmetic\n",
    "All programming languages, including Python, support arithmetic operations. Arithmetic can be combined with variables. See below:"
   ]
  },
  {
   "cell_type": "code",
   "execution_count": 4,
   "id": "4fdf26a7-8bfd-46c9-843d-24f44de98bb8",
   "metadata": {},
   "outputs": [
    {
     "name": "stdout",
     "output_type": "stream",
     "text": [
      "5\n",
      "9\n",
      "14\n",
      "x + y = 14\n"
     ]
    }
   ],
   "source": [
    "x = 5\n",
    "y = 9\n",
    "z = x + y\n",
    "print(x)\n",
    "print(y)\n",
    "print(z)\n",
    "\n",
    "print(\"x\", \"+\", \"y\" ,\"=\" ,z)"
   ]
  },
  {
   "cell_type": "markdown",
   "id": "0a756804-05ce-4c9d-8b67-cc82002d6bec",
   "metadata": {},
   "source": [
    "Python has many operators you can find a bunch of them at:\n",
    "\n",
    "[W3Schools Python operators](https://www.w3schools.com/python/python_operators.asp)\n",
    "\n"
   ]
  },
  {
   "cell_type": "markdown",
   "id": "185152e9-92df-4ea7-89f3-1ccbe4222e43",
   "metadata": {},
   "source": [
    "### F strings\n",
    "F-strings are a way to format strings in Python. They allow you to embed expressions inside string literals, using curly braces `{}`. This makes it easy to create dynamic strings that include variable values or calculations.\n",
    "F-strings are prefixed with the letter 'f' or 'F' before the opening quotation mark. This tells Python to evaluate any expressions inside the curly braces and insert their values into the string.\n",
    "F-strings are a powerful and convenient way to format strings in Python, making it easier to create dynamic and readable output.\n",
    "[W3Schools Python F-Strings](https://www.w3schools.com/python/python_fstrings.asp)"
   ]
  },
  {
   "cell_type": "code",
   "execution_count": 6,
   "id": "3923a1ee-4dd1-44d9-a32d-a8d0dcd1a6f9",
   "metadata": {},
   "outputs": [
    {
     "name": "stdout",
     "output_type": "stream",
     "text": [
      "5\n",
      "9\n",
      "14\n",
      "5+ 9 = 14\n"
     ]
    }
   ],
   "source": [
    "x = 5\n",
    "y = 9\n",
    "z = x + y\n",
    "print(x)\n",
    "print(y)\n",
    "print(z)\n",
    "\n",
    "print(f\"{x}+ {y} = {z}\")"
   ]
  },
  {
   "cell_type": "markdown",
   "id": "2b2cd22a-a110-4a54-8e34-d30504d7f3d9",
   "metadata": {},
   "source": [
    "### Task 1:\n",
    "Complete the following tasks in the code cell below.\n",
    "\n",
    "Store the value 100 in a variable named a\n",
    "Store the value 77 in a variable named b\n",
    "subtract the b from a and store the result in a variable named result\n",
    "print a sentence the looks like - *\"a - b = result\"* - where a, b and result are the actual values\n"
   ]
  },
  {
   "cell_type": "code",
   "execution_count": null,
   "id": "daa8bbb3-2661-4ab1-aad0-f3e7788d92ab",
   "metadata": {},
   "outputs": [],
   "source": [
    "# Ex 1 - code for task 1\n",
    "\n",
    "\n",
    "# Ex 2 - code for task 2\n",
    "\n",
    "\n",
    "# Ex 3 - code for task 3\n",
    "\n",
    "\n",
    "# Ex 4 - code for task 4"
   ]
  },
  {
   "cell_type": "markdown",
   "id": "07a88ffd-5bb5-4e99-90e6-9b2dda611a07",
   "metadata": {},
   "source": [
    "### Functions\n",
    "Functions are the final core concept of programming.  There are, of course, many other concepts but they are all built on top of Sequence, Selection, Iteration, Lists and Functions.\n",
    "Functions enable us to group code together and assign a name to that code.  This allows us to reuse code and avoid repeating ourselves.  Functions also break up our code into smaller, more manageable pieces.  This is important for debugging and testing.  Functions also enable us to create libraries of code that can be used in other programs.  This is important for sharing code and collaborating with others.\n",
    "It can be helpful to think of functions as mini-programs that we can call from of main program when we need them.\n",
    "\n",
    "### Calling a function\n",
    "We can then **call** that function.  Calling a function means executing the code that was grouped together.  Importantly, we can call the same function many times.  \n",
    "We have already used functions previously.  For example, the `print` function is a built-in function.  Python has alraedy grouped together or, **defined**, the code that prints to the screen.  We then *call* the `print` function thus executing some predefined code.  Notice that the `print` function has brackets/parenthesis `()` after it.  This part of the syntax of calling a function.  The brackets are used to pass in any information that the function needs to do its job.  For example, the `print` function needs to know what to print.  We can pass this information in as follows:"
   ]
  },
  {
   "cell_type": "code",
   "execution_count": null,
   "id": "4b08fc8f-10de-4c2f-adc4-e415d2eec4b8",
   "metadata": {},
   "outputs": [],
   "source": [
    "print(\"Hello World\")"
   ]
  },
  {
   "cell_type": "markdown",
   "id": "8df18b0a-2290-4b11-841c-efb580ad341a",
   "metadata": {},
   "source": [
    "*What are some other built-in functions?  That we have used?*\n",
    "\n",
    "\n",
    "## Defining a function\n",
    "We can also define our own functions.  This is done using the `def` keyword.  Like other control structures in Python, we add a colon `:` to the end of the line, and indented lines below belong to the structure.  The syntax is as follows:"
   ]
  },
  {
   "cell_type": "code",
   "execution_count": null,
   "id": "32254d76-7681-41e1-be20-77f55cb36f67",
   "metadata": {},
   "outputs": [],
   "source": [
    "def function_name():\n",
    "    # code to be executed"
   ]
  },
  {
   "cell_type": "markdown",
   "id": "f03b34a2-1826-4dac-9053-1f4fd32f5342",
   "metadata": {},
   "source": [
    "The `function_name` is the name we want to give our function and, therefore, what we call it by.  A function name should describe the purpose of the function.  The code that is indented below the function name is the code that will be executed when we call the function."
   ]
  },
  {
   "cell_type": "code",
   "execution_count": null,
   "id": "61730ce2-5a6d-4bc2-9af7-4e5daf169e95",
   "metadata": {},
   "outputs": [],
   "source": [
    "# prints \"Hello!\" to the screen\n",
    "def say_hello():\n",
    "    print(\"Hello!\")"
   ]
  },
  {
   "cell_type": "markdown",
   "id": "91006a08-2a5e-4ff7-a6c0-e84ee41c83b2",
   "metadata": {},
   "source": [
    "To call the above functions, we simply use the function name followed by brackets:"
   ]
  },
  {
   "cell_type": "code",
   "execution_count": null,
   "id": "0c91e112-4b75-4846-ba56-5c7f7b94882c",
   "metadata": {},
   "outputs": [],
   "source": [
    "say_hello()"
   ]
  },
  {
   "cell_type": "markdown",
   "id": "f49a4ae8-26a2-4205-8f2e-261acdd9e8cd",
   "metadata": {},
   "source": [
    "Run the example below:"
   ]
  },
  {
   "cell_type": "code",
   "execution_count": null,
   "id": "acb392c7-6f49-45c5-8df1-0f82c72957f9",
   "metadata": {},
   "outputs": [],
   "source": [
    "def greet(name):\n",
    "    print(\"Hello\", name)\n",
    "\n",
    "greet(\"Smith\")\n"
   ]
  },
  {
   "cell_type": "markdown",
   "id": "c32d9c5c-aacb-4d8d-9556-500e684d5ce9",
   "metadata": {},
   "source": [
    "## Parameters\n",
    "Functions can also take in information.  This is done by adding parameters to the function definition.  Think of parameters as the inputs to our mini-programs.  Parameters are variables that are passed into the function when it is called.  This allows us to make our functions more flexible and reusable.  The syntax for adding parameters is as follows:"
   ]
  },
  {
   "cell_type": "code",
   "execution_count": null,
   "id": "b7cd4d19-3084-4db1-86ca-e5ed5a05be02",
   "metadata": {},
   "outputs": [],
   "source": [
    "def function_name(parameter1, parameter2):\n",
    "    # code to be executed"
   ]
  },
  {
   "cell_type": "markdown",
   "id": "4dc41826-7afa-49aa-b65f-2733f7681479",
   "metadata": {},
   "source": [
    "The parameters are separated by commas.  We can then use these parameters in the code that is executed when the function is called.  For example:"
   ]
  },
  {
   "cell_type": "code",
   "execution_count": null,
   "id": "ee689fd9-54b2-4f02-b42e-218706f5ef3f",
   "metadata": {},
   "outputs": [],
   "source": [
    "def say_hello(name):\n",
    "    print(\"Hello \" + name + \"!\")\n",
    "\n",
    "def print_fullname(first_name, last_name):\n",
    "    print(\"Hello \" + first_name + \" \" + last_name + \"!\")\n",
    "\n",
    "say_hello(\"Alice\")\n",
    "say_hello(\"Bob\")\n",
    "print_fullname(\"Alice\", \"Smith\")\n",
    "print_fullname(\"Bob\", \"Jones\")"
   ]
  },
  {
   "cell_type": "markdown",
   "id": "6f087d29-e084-4a25-a783-009ee2206949",
   "metadata": {},
   "source": [
    "### Task 2\n",
    "Write functions to do the following:\n",
    "1.  Write a function that takes in a number and prints the square of that number.  A square is the number multiplied by itself.  For example, the square of 3 is 3 * 3 = 9.\n",
    "2.  Write a function that takes in two numbers and prints the sum of those two numbers.  For example, the sum of 3 and 4 is 3 + 4 = 7\n",
    "3.  Write a function that takes in two numbers and prints from the first number to the second number.  For example, if the first number is 3 and the second number is 7, the function should print 3, 4, 5, 6, 7. "
   ]
  },
  {
   "cell_type": "code",
   "execution_count": null,
   "id": "f5daa7fa-8063-415e-8fc9-11076ab87aba",
   "metadata": {},
   "outputs": [],
   "source": [
    "# Ex 1 - code for task 2\n",
    "\n",
    "# Ex 2- code for task 2\n",
    "\n",
    "# Ex 3 - code for task 3"
   ]
  }
 ],
 "metadata": {
  "kernelspec": {
   "display_name": "Python 3 (ipykernel)",
   "language": "python",
   "name": "python3"
  },
  "language_info": {
   "codemirror_mode": {
    "name": "ipython",
    "version": 3
   },
   "file_extension": ".py",
   "mimetype": "text/x-python",
   "name": "python",
   "nbconvert_exporter": "python",
   "pygments_lexer": "ipython3",
   "version": "3.8.10"
  }
 },
 "nbformat": 4,
 "nbformat_minor": 5
}
