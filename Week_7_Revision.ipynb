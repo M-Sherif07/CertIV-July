{
 "cells": [
  {
   "cell_type": "markdown",
   "id": "059a4b6b-2d2a-4c98-af18-3f77730b6c4c",
   "metadata": {},
   "source": [
    "# Week_7_Revision"
   ]
  },
  {
   "cell_type": "markdown",
   "id": "d7bff16d-87a7-486d-8e13-3ff5f42022d9",
   "metadata": {},
   "source": [
    "## Part 1 - Short Answer Questions\n",
    "\n",
    "1. What is MicroPython, and how does it differ from standard Python?"
   ]
  },
  {
   "cell_type": "code",
   "execution_count": null,
   "id": "ec9085b3-0345-4650-a5f7-1da6396261e5",
   "metadata": {},
   "outputs": [],
   "source": []
  },
  {
   "cell_type": "markdown",
   "id": "79191380-da94-4f2e-81cb-a38aa120768b",
   "metadata": {},
   "source": [
    "2. Name two key advantages of using MicroPython on microcontrollers."
   ]
  },
  {
   "cell_type": "code",
   "execution_count": null,
   "id": "3b789c63-e4a8-46fd-8217-8893c0efcaf3",
   "metadata": {},
   "outputs": [],
   "source": []
  },
  {
   "cell_type": "markdown",
   "id": "da4ee76b-69f8-4ffa-8942-854ecb2b3612",
   "metadata": {},
   "source": [
    "3. What is the purpose of the Pin class in the machine module?"
   ]
  },
  {
   "cell_type": "code",
   "execution_count": null,
   "id": "bfc7ecc7-b560-43b1-ba01-0201acdfa5b6",
   "metadata": {},
   "outputs": [],
   "source": []
  },
  {
   "cell_type": "markdown",
   "id": "0ac65dcb-1ce9-4fba-a643-b26321a28c97",
   "metadata": {},
   "source": [
    "4. Explain what happens when you use sleep() in a loop controlling an LED."
   ]
  },
  {
   "cell_type": "code",
   "execution_count": null,
   "id": "867d5787-f05c-42bf-8e01-62af431d31c4",
   "metadata": {},
   "outputs": [],
   "source": []
  },
  {
   "cell_type": "markdown",
   "id": "28c270b9-d4b8-4b2c-a367-5afef916fb1a",
   "metadata": {},
   "source": [
    "## Part 2 - Coding Tasks"
   ]
  },
  {
   "cell_type": "markdown",
   "id": "2de9f218-bc02-428d-837d-533f36f9d6f5",
   "metadata": {},
   "source": [
    "### Task 1: LED & Button Interaction\n",
    "**Scenario**\n",
    "\n",
    "You are building a simple control system where:\n",
    "- Button A turns the LED ON.\n",
    "- Button B turns the LED OFF.\n",
    "You will use two GPIO input pins for the buttons and one GPIO output pin for the LED.\n",
    "\n",
    "#### Hardware Requirements:\n",
    "- Raspberry Pi Pico\n",
    "- Two Button\n",
    "- LED light\n",
    "- Breadboard\n",
    "- Jumper wire"
   ]
  },
  {
   "cell_type": "code",
   "execution_count": null,
   "id": "63f2f534-386f-44a9-84f0-12a082cee8cb",
   "metadata": {},
   "outputs": [],
   "source": []
  },
  {
   "cell_type": "markdown",
   "id": "a31dc5fa-32c1-40ec-8f3b-cb5c247d8b7a",
   "metadata": {},
   "source": [
    "### Task 2: Smart Door Alarm\n",
    "\n",
    "**Scenario**\n",
    "\n",
    "You are designing a Smart Door Alarm for a home security system.\n",
    "The system should:\n",
    "- Detect motion using a PIR sensor.\n",
    "- Detect if the door is open using a reed switch (HIGH when open).\n",
    "- When both are TRUE (motion detected and door open):\n",
    "    - Turn ON the LED and buzzer as an alarm.\n",
    "- Otherwise, the system remains idle (LED and buzzer OFF).\n",
    "\n",
    "#### Hardware Requirements:\n",
    "- Raspberry Pi Pico\n",
    "- PIR Sensor\n",
    "- LED light (RED)\n",
    "- Reed Switch (Magnetic Door Sensor)\n",
    "- Buzzer (Active or Passive)\n",
    "- Breadboard\n",
    "- Jumper wire"
   ]
  },
  {
   "cell_type": "code",
   "execution_count": null,
   "id": "7864701a-3274-4031-af1b-9886a5f09d77",
   "metadata": {},
   "outputs": [],
   "source": []
  },
  {
   "cell_type": "markdown",
   "id": "fd3cc45c-b33e-4f9b-9964-dec8ea1fb5b4",
   "metadata": {},
   "source": [
    "### Task 3: Analog Light Control\n",
    "\n",
    "**Scenario**\n",
    "\n",
    "You are working as an IoT technician for TechVision SmartHomes, a company that develops energy-efficient lighting systems.\n",
    "Your manager has asked you to prototype a smart dimmer control for LED lights that can automatically adjust brightness based on user input or environmental conditions.\n",
    "\n",
    "#### Hardware Requirements:\n",
    "- Raspberry Pi Pico\n",
    "- Potentiometer\n",
    "- LED light (RED)\n",
    "- Breadboard\n",
    "- Jumper wire"
   ]
  },
  {
   "cell_type": "code",
   "execution_count": null,
   "id": "49d79a5f-71c5-44d9-b61a-326d5b75c5e8",
   "metadata": {},
   "outputs": [],
   "source": []
  },
  {
   "cell_type": "markdown",
   "id": "4b781662-4694-41a3-8e86-97146b93a6d9",
   "metadata": {},
   "source": [
    "### Task 4: RGB Mood Lamp (Use Tuples)\n",
    "\n",
    "**Scenario**\n",
    "\n",
    "You are designing a mood lamp for a relaxation space. The lamp smoothly cycles through a selection of colours `Red`, `Green`, `Blue`, `Yellow`, `Cyan`, `Magenta`, and `White` to create an ambient lighting effect.\n",
    "\n",
    "#### Hardware Requirements:\n",
    "- Raspberry Pi Pico\n",
    "- RGB LED\n",
    "- Breadboard\n",
    "- Jumper wire"
   ]
  },
  {
   "cell_type": "code",
   "execution_count": null,
   "id": "3fe1d86d-bbf8-4300-b767-b7bf240c3f43",
   "metadata": {},
   "outputs": [],
   "source": []
  },
  {
   "attachments": {
    "015bc24f-efee-47c4-8222-d2cbd04ac13b.png": {
     "image/png": "[encoded data removed]"
    }
   },
   "cell_type": "markdown",
   "id": "90670a82-68c8-4723-8c64-25355263b461",
   "metadata": {},
   "source": [
    "### Task 5: Traffic Light Automation\n",
    "\n",
    "**Scenario**\n",
    "\n",
    "You have been asked to design an automated traffic light controller for a road intersection.\n",
    "Instead of using fixed code for each light, you will store light states and their durations inside dictionaries and cycle through them using a for loop, a clean, data-driven approach used in smart traffic systems.\n",
    "\n",
    "![image.png](attachment:015bc24f-efee-47c4-8222-d2cbd04ac13b.png)\n",
    "\n",
    "#### Hardware Requirements:\n",
    "- Raspberry Pi Pico\n",
    "- Traffic Light Module\n",
    "- Breadboard\n",
    "- Jumper wire"
   ]
  },
  {
   "cell_type": "code",
   "execution_count": null,
   "id": "742f0599-8c95-48b4-b6be-cf69d369586c",
   "metadata": {},
   "outputs": [],
   "source": []
  },
  {
   "cell_type": "markdown",
   "id": "10f1c26a-31ed-4d8a-9874-abd0918ad215",
   "metadata": {},
   "source": [
    "### Task 5: Smart Garden Monitoring System\n",
    "\n",
    "**Scenario**\n",
    "\n",
    "You have been hired as a junior IoT developer by TechVision GreenWorks, a company developing smart solutions for sustainable agriculture and home gardening.\n",
    "Your task is to build a Smart Garden Monitoring System prototype that ensures ideal growing conditions for sensitive plants inside a greenhouse.\n",
    "\n",
    "The system will:\n",
    "- Continuously monitor temperature and humidity using the DHT11 sensor.\n",
    "- Provide real-time feedback using LEDs to show environmental status:\n",
    "    - Red LED  ➡️Too hot or too humid\n",
    "    - Blue LED ➡️ Too cold\n",
    "    - Green LED ➡️ Optimal conditions\n",
    "- Trigger a buzzer alert if temperature readings exceed safe thresholds.\n",
    "- Display live readings every 2 seconds in the terminal.\n",
    "\n",
    "#### Hardware Requirements:\n",
    "- Raspberry Pi Pico\n",
    "- DHT11 Sensor\n",
    "- Red LED\n",
    "- Green LED\n",
    "- Blue LED\n",
    "- Buzzer\n",
    "- Breadboard\n",
    "- Jumper wire"
   ]
  },
  {
   "cell_type": "code",
   "execution_count": null,
   "id": "b1d74b11-f4d9-40b2-afe5-c3a04b775484",
   "metadata": {},
   "outputs": [],
   "source": []
  }
 ],
 "metadata": {
  "kernelspec": {
   "display_name": "MicroPython - USB",
   "language": "micropython",
   "name": "micropython"
  },
  "language_info": {
   "name": ""
  }
 },
 "nbformat": 4,
 "nbformat_minor": 5
}
